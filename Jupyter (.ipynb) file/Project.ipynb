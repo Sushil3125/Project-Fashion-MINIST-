{
 "cells": [
  {
   "cell_type": "markdown",
   "metadata": {},
   "source": [
    "First of all checking the version of tensorflow using the following code."
   ]
  },
  {
   "cell_type": "code",
   "execution_count": 87,
   "metadata": {
    "execution": {
     "iopub.execute_input": "2022-03-26T08:57:01.961914Z",
     "iopub.status.busy": "2022-03-26T08:57:01.961290Z",
     "iopub.status.idle": "2022-03-26T08:57:01.968647Z",
     "shell.execute_reply": "2022-03-26T08:57:01.967627Z",
     "shell.execute_reply.started": "2022-03-26T08:57:01.961851Z"
    }
   },
   "outputs": [
    {
     "data": {
      "text/plain": [
       "'2.8.0'"
      ]
     },
     "execution_count": 87,
     "metadata": {},
     "output_type": "execute_result"
    }
   ],
   "source": [
    "import tensorflow as tf\n",
    "tf.__version__"
   ]
  },
  {
   "cell_type": "markdown",
   "metadata": {},
   "source": [
    "Now, it's time to load the dataset"
   ]
  },
  {
   "cell_type": "code",
   "execution_count": 88,
   "metadata": {
    "execution": {
     "iopub.execute_input": "2022-03-26T08:57:03.486814Z",
     "iopub.status.busy": "2022-03-26T08:57:03.486456Z",
     "iopub.status.idle": "2022-03-26T08:57:04.030521Z",
     "shell.execute_reply": "2022-03-26T08:57:04.029454Z",
     "shell.execute_reply.started": "2022-03-26T08:57:03.486773Z"
    }
   },
   "outputs": [],
   "source": [
    "from tensorflow import keras\n",
    "fashion_mnist = keras.datasets.fashion_mnist\n",
    "(X_train, y_train), (X_test, y_test) = fashion_mnist.load_data()"
   ]
  },
  {
   "cell_type": "markdown",
   "metadata": {},
   "source": [
    "As can be seen from the above code, the dataset was divided into train and test sets. Let's take a look at the X_train"
   ]
  },
  {
   "cell_type": "code",
   "execution_count": 89,
   "metadata": {
    "execution": {
     "iopub.execute_input": "2022-03-26T08:57:04.481814Z",
     "iopub.status.busy": "2022-03-26T08:57:04.481056Z",
     "iopub.status.idle": "2022-03-26T08:57:04.488619Z",
     "shell.execute_reply": "2022-03-26T08:57:04.487905Z",
     "shell.execute_reply.started": "2022-03-26T08:57:04.481763Z"
    }
   },
   "outputs": [
    {
     "name": "stdout",
     "output_type": "stream",
     "text": [
      "X_train : (60000, 28, 28)\n",
      "X_test : (10000, 28, 28)\n",
      "y_train : (60000,)\n",
      "y_test : (10000,)\n"
     ]
    }
   ],
   "source": [
    "print('X_train :',X_train.shape)\n",
    "print('X_test :',X_test.shape)\n",
    "print('y_train :',y_train.shape)\n",
    "print('y_test :',y_test.shape)"
   ]
  },
  {
   "cell_type": "markdown",
   "metadata": {},
   "source": [
    "As it is clear, the train dataset (`X_train`) contains 60,000 images of size 28 x 28. We can visualize one of the images using the following code:"
   ]
  },
  {
   "cell_type": "code",
   "execution_count": 90,
   "metadata": {
    "execution": {
     "iopub.execute_input": "2022-03-26T08:57:06.161803Z",
     "iopub.status.busy": "2022-03-26T08:57:06.161126Z",
     "iopub.status.idle": "2022-03-26T08:57:06.271941Z",
     "shell.execute_reply": "2022-03-26T08:57:06.271255Z",
     "shell.execute_reply.started": "2022-03-26T08:57:06.161758Z"
    }
   },
   "outputs": [
    {
     "data": {
      "image/png": "[encoded data removed]",
      "text/plain": [
       "<Figure size 432x288 with 1 Axes>"
      ]
     },
     "metadata": {
      "needs_background": "light"
     },
     "output_type": "display_data"
    }
   ],
   "source": [
    "import matplotlib as mpl\n",
    "import matplotlib.pyplot as plt\n",
    "%matplotlib inline\n",
    "\n",
    "sample_image = X_train[10]\n",
    "plt.imshow(sample_image, cmap='binary')\n",
    "plt.axis('off')\n",
    "plt.show()"
   ]
  },
  {
   "cell_type": "markdown",
   "metadata": {},
   "source": [
    "The `y_train` also includes values between 0 and 9. Each represents a particular category. For example, we can check the value of `y_train` for the above image."
   ]
  },
  {
   "cell_type": "code",
   "execution_count": 91,
   "metadata": {
    "execution": {
     "iopub.execute_input": "2022-03-26T08:57:06.981231Z",
     "iopub.status.busy": "2022-03-26T08:57:06.980706Z",
     "iopub.status.idle": "2022-03-26T08:57:06.989320Z",
     "shell.execute_reply": "2022-03-26T08:57:06.988641Z",
     "shell.execute_reply.started": "2022-03-26T08:57:06.981180Z"
    }
   },
   "outputs": [
    {
     "data": {
      "text/plain": [
       "0"
      ]
     },
     "execution_count": 91,
     "metadata": {},
     "output_type": "execute_result"
    }
   ],
   "source": [
    "y_train[10]"
   ]
  },
  {
   "cell_type": "markdown",
   "metadata": {},
   "source": [
    "The above code shows that the image belongs to category 0. To get the associated label with each category, you can use the following code:"
   ]
  },
  {
   "cell_type": "code",
   "execution_count": 92,
   "metadata": {
    "execution": {
     "iopub.execute_input": "2022-03-26T08:57:07.841659Z",
     "iopub.status.busy": "2022-03-26T08:57:07.841201Z",
     "iopub.status.idle": "2022-03-26T08:57:07.847896Z",
     "shell.execute_reply": "2022-03-26T08:57:07.846980Z",
     "shell.execute_reply.started": "2022-03-26T08:57:07.841626Z"
    }
   },
   "outputs": [
    {
     "name": "stdout",
     "output_type": "stream",
     "text": [
      "T-shirt/top\n"
     ]
    }
   ],
   "source": [
    "class_names = ['T-shirt/top','Trouser','Pullover','Dress','Coat','Sandal','Shirt','Sneaker','Bag','Ankle boot']\n",
    "print(class_names[y_train[10]])"
   ]
  },
  {
   "cell_type": "markdown",
   "metadata": {},
   "source": [
    "## First Scaling the values of image to a range of 0 to 1. To do so, we divide the values by 255."
   ]
  },
  {
   "cell_type": "code",
   "execution_count": 8,
   "metadata": {
    "execution": {
     "iopub.execute_input": "2022-03-26T08:57:14.587776Z",
     "iopub.status.busy": "2022-03-26T08:57:14.586648Z",
     "iopub.status.idle": "2022-03-26T08:57:14.853357Z",
     "shell.execute_reply": "2022-03-26T08:57:14.852052Z",
     "shell.execute_reply.started": "2022-03-26T08:57:14.587733Z"
    }
   },
   "outputs": [
    {
     "name": "stdout",
     "output_type": "stream",
     "text": [
      "(10000, 28, 28)\n"
     ]
    }
   ],
   "source": [
    "X_train_norm = X_train / 255.0\n",
    "\n",
    "X_test_norm = X_test / 255.0\n",
    "print(X_test_norm.shape)"
   ]
  },
  {
   "cell_type": "markdown",
   "metadata": {},
   "source": [
    "### Verifing that the data is in the correct format, let's display the first 25 images from the training set and display the class name below each image."
   ]
  },
  {
   "cell_type": "code",
   "execution_count": 192,
   "metadata": {
    "execution": {
     "iopub.execute_input": "2022-03-26T08:57:16.301388Z",
     "iopub.status.busy": "2022-03-26T08:57:16.301045Z",
     "iopub.status.idle": "2022-03-26T08:57:17.573973Z",
     "shell.execute_reply": "2022-03-26T08:57:17.572964Z",
     "shell.execute_reply.started": "2022-03-26T08:57:16.301357Z"
    }
   },
   "outputs": [
    {
     "data": {
      "image/png": "[encoded data removed]",
      "text/plain": [
       "<Figure size 720x720 with 25 Axes>"
      ]
     },
     "metadata": {},
     "output_type": "display_data"
    }
   ],
   "source": [
    "plt.figure(figsize=(10,10))\n",
    "class_names = ['T-shirt/top', 'Trouser', 'Pullover', 'Dress', 'Coat',\n",
    "               'Sandal', 'Shirt', 'Sneaker', 'Bag', 'Ankle boot']\n",
    "for i in range(25):\n",
    "    plt.subplot(5,5,i+1)\n",
    "    plt.xticks([])\n",
    "    plt.yticks([])\n",
    "    plt.grid(False)\n",
    "    plt.imshow(X_train[i], cmap=plt.cm.binary)\n",
    "    plt.xlabel(class_names[y_train[i]])\n",
    "plt.show()"
   ]
  },
  {
   "cell_type": "markdown",
   "metadata": {},
   "source": [
    "**The above plot of the first 25 images in the dataset shows that indeed the images are grayscale photographs of items of clothing.**"
   ]
  },
  {
   "cell_type": "markdown",
   "metadata": {},
   "source": [
    "# Now using KNN to train our 1st model  "
   ]
  },
  {
   "cell_type": "markdown",
   "metadata": {},
   "source": [
    "**K-Nearest Neighbor Algorithm\n",
    "K-Nearest Neighbor (or KNN) algorithm is a non-parametric classification algorithm. Backprop Neural Network is a parametric model parametrized by weights and bias values. Non-parametric model, contrary to the name, has a very large number of parameters. In the case of Fashion MNIST example, we will use the entire Train Set as parameters of KNN.**\n",
    "\n",
    "**The basic idea behind KNN is simple. Given a (test) vector or image to classify or label, find  k  vectors or images in Train Set that are \"closest\" to the (test) vector or image. With the  k  closest vectors or images, there are  k  labels. Assign the most frequent label of  k  labels to the (test) vector or image.**"
   ]
  },
  {
   "cell_type": "code",
   "execution_count": 10,
   "metadata": {
    "execution": {
     "iopub.execute_input": "2022-03-26T08:57:19.941533Z",
     "iopub.status.busy": "2022-03-26T08:57:19.941234Z",
     "iopub.status.idle": "2022-03-26T08:57:20.038584Z",
     "shell.execute_reply": "2022-03-26T08:57:20.037509Z",
     "shell.execute_reply.started": "2022-03-26T08:57:19.941503Z"
    }
   },
   "outputs": [],
   "source": [
    "# importing model\n",
    "from sklearn.neighbors import KNeighborsClassifier\n",
    "from sklearn.metrics import accuracy_score"
   ]
  },
  {
   "cell_type": "code",
   "execution_count": 11,
   "metadata": {
    "execution": {
     "iopub.execute_input": "2022-03-26T08:57:21.462133Z",
     "iopub.status.busy": "2022-03-26T08:57:21.461800Z",
     "iopub.status.idle": "2022-03-26T08:57:21.470267Z",
     "shell.execute_reply": "2022-03-26T08:57:21.469452Z",
     "shell.execute_reply.started": "2022-03-26T08:57:21.462101Z"
    }
   },
   "outputs": [
    {
     "name": "stdout",
     "output_type": "stream",
     "text": [
      "X_train_flat shape =  (60000, 784)\n",
      "X_test_flat shape =  (10000, 784)\n",
      "y_train shape =  (60000,)\n",
      "y_test shape =  (10000,)\n"
     ]
    }
   ],
   "source": [
    "# Reshape the training and test data sets so that images of size (m, num_px, num_px) are flattened into single vectors of shape (m, num_px  ∗  num_px ).\n",
    "X_train_flat=X_train_norm.reshape(X_train_norm.shape[0], -1)\n",
    "X_test_flat=X_test_norm.reshape(X_test_norm.shape[0], -1)\n",
    "\n",
    "print('X_train_flat shape = ', X_train_flat.shape)\n",
    "print('X_test_flat shape = ', X_test_flat.shape)\n",
    "print('y_train shape = ', y_train.shape)\n",
    "print('y_test shape = ', y_test.shape)"
   ]
  },
  {
   "cell_type": "code",
   "execution_count": 12,
   "metadata": {
    "execution": {
     "iopub.execute_input": "2022-03-26T08:57:21.802467Z",
     "iopub.status.busy": "2022-03-26T08:57:21.801209Z",
     "iopub.status.idle": "2022-03-26T08:57:21.807665Z",
     "shell.execute_reply": "2022-03-26T08:57:21.806641Z",
     "shell.execute_reply.started": "2022-03-26T08:57:21.802400Z"
    }
   },
   "outputs": [],
   "source": [
    "# initializing the model\n",
    "model = KNeighborsClassifier(n_neighbors = 5) # Using k = 5"
   ]
  },
  {
   "cell_type": "code",
   "execution_count": 13,
   "metadata": {
    "execution": {
     "iopub.execute_input": "2022-03-26T08:57:22.191787Z",
     "iopub.status.busy": "2022-03-26T08:57:22.191467Z",
     "iopub.status.idle": "2022-03-26T08:57:22.254184Z",
     "shell.execute_reply": "2022-03-26T08:57:22.253268Z",
     "shell.execute_reply.started": "2022-03-26T08:57:22.191756Z"
    }
   },
   "outputs": [
    {
     "data": {
      "text/plain": [
       "KNeighborsClassifier()"
      ]
     },
     "execution_count": 13,
     "metadata": {},
     "output_type": "execute_result"
    }
   ],
   "source": [
    "# training the model using X_train_flat and y_train\n",
    "model.fit(X_train_flat, y_train)"
   ]
  },
  {
   "cell_type": "code",
   "execution_count": 14,
   "metadata": {
    "execution": {
     "iopub.execute_input": "2022-03-26T08:57:22.581525Z",
     "iopub.status.busy": "2022-03-26T08:57:22.581204Z",
     "iopub.status.idle": "2022-03-26T08:57:52.273236Z",
     "shell.execute_reply": "2022-03-26T08:57:52.272297Z",
     "shell.execute_reply.started": "2022-03-26T08:57:22.581493Z"
    }
   },
   "outputs": [
    {
     "name": "stdout",
     "output_type": "stream",
     "text": [
      "0.8554\n"
     ]
    }
   ],
   "source": [
    "# Now calculating the confidence\n",
    "confidence = model.score(X_test_flat, y_test)\n",
    "print(confidence)"
   ]
  },
  {
   "cell_type": "markdown",
   "metadata": {},
   "source": [
    "**Complexity:  \n",
    "The complexity of KNN for this example is quite high: for each image in Test Set (there are 10000 of them), we compute 60000 metrics (one each for Train image). After populating an array of 60000 metrics, we scan through this array to identify  k  smallest metrics.**"
   ]
  },
  {
   "cell_type": "markdown",
   "metadata": {},
   "source": [
    "### **Looking at the confidence, the model's confidence is 85% on prediciting the test data. Lets look at the accuracy of the model**"
   ]
  },
  {
   "cell_type": "code",
   "execution_count": 15,
   "metadata": {
    "execution": {
     "iopub.execute_input": "2022-03-26T08:57:52.275344Z",
     "iopub.status.busy": "2022-03-26T08:57:52.274884Z",
     "iopub.status.idle": "2022-03-26T08:58:22.771114Z",
     "shell.execute_reply": "2022-03-26T08:58:22.770184Z",
     "shell.execute_reply.started": "2022-03-26T08:57:52.275303Z"
    }
   },
   "outputs": [
    {
     "name": "stdout",
     "output_type": "stream",
     "text": [
      "ACCURACY OF MODEL:  0.8554\n"
     ]
    }
   ],
   "source": [
    "y_pred = model.predict(X_test_flat)\n",
    "accuracy = accuracy_score(y_test, y_pred)\n",
    "print(\"ACCURACY OF MODEL: \", accuracy)"
   ]
  },
  {
   "cell_type": "markdown",
   "metadata": {},
   "source": [
    "## **As we can see, the accuracy of out model is 85% which is pretty good. This mean that our model is performing good in test data set. We can easily use this model to make prediciton. Lets train our data using other supervised learning.**"
   ]
  },
  {
   "cell_type": "markdown",
   "metadata": {},
   "source": [
    "# **Using single layer neural network with one neuron to train our model**"
   ]
  },
  {
   "cell_type": "markdown",
   "metadata": {},
   "source": [
    "**The values of the target label are stored in a 1-dimensional array since essentially all the labels are represented as a single number. However, this kind of label representation is not the one that a Neural Network expect, so we need to turn this into one-hot representation before training the model**"
   ]
  },
  {
   "cell_type": "code",
   "execution_count": 16,
   "metadata": {
    "execution": {
     "iopub.execute_input": "2022-03-26T08:58:33.503860Z",
     "iopub.status.busy": "2022-03-26T08:58:33.502550Z",
     "iopub.status.idle": "2022-03-26T08:58:34.421196Z",
     "shell.execute_reply": "2022-03-26T08:58:34.420429Z",
     "shell.execute_reply.started": "2022-03-26T08:58:33.503814Z"
    }
   },
   "outputs": [],
   "source": [
    "from tensorflow.keras.utils import to_categorical\n",
    "import numpy as np\n",
    "\n",
    "# Convert y_train into one-hot format\n",
    "temp = []\n",
    "for i in range(len(y_train)):\n",
    "    temp.append(to_categorical(y_train[i], num_classes=10))\n",
    "y_train = np.array(temp)\n",
    "# Convert y_test into one-hot format\n",
    "temp = []\n",
    "for i in range(len(y_test)):    \n",
    "    temp.append(to_categorical(y_test[i], num_classes=10))\n",
    "y_test = np.array(temp)"
   ]
  },
  {
   "cell_type": "code",
   "execution_count": 17,
   "metadata": {
    "execution": {
     "iopub.execute_input": "2022-03-26T08:58:34.424290Z",
     "iopub.status.busy": "2022-03-26T08:58:34.423327Z",
     "iopub.status.idle": "2022-03-26T08:58:34.430886Z",
     "shell.execute_reply": "2022-03-26T08:58:34.429955Z",
     "shell.execute_reply.started": "2022-03-26T08:58:34.424229Z"
    }
   },
   "outputs": [
    {
     "name": "stdout",
     "output_type": "stream",
     "text": [
      "(60000, 10)\n",
      "(10000, 10)\n"
     ]
    }
   ],
   "source": [
    "# now lets check the shape of y_train and y_test\n",
    "print(y_train.shape)\n",
    "print(y_test.shape)"
   ]
  },
  {
   "cell_type": "code",
   "execution_count": 18,
   "metadata": {
    "execution": {
     "iopub.execute_input": "2022-03-26T09:06:34.652199Z",
     "iopub.status.busy": "2022-03-26T09:06:34.651757Z",
     "iopub.status.idle": "2022-03-26T09:06:34.658496Z",
     "shell.execute_reply": "2022-03-26T09:06:34.657357Z",
     "shell.execute_reply.started": "2022-03-26T09:06:34.652154Z"
    }
   },
   "outputs": [],
   "source": [
    "# Now lets initialize our model.\n",
    "# first importing the modules\n",
    "# now lets check the shape of y_train and y_test\n",
    "import keras\n",
    "from keras.layers import Dense, Flatten\n",
    "from keras.models import Sequential\n",
    "import numpy as np"
   ]
  },
  {
   "cell_type": "code",
   "execution_count": 19,
   "metadata": {
    "execution": {
     "iopub.execute_input": "2022-03-26T09:06:34.842056Z",
     "iopub.status.busy": "2022-03-26T09:06:34.840820Z",
     "iopub.status.idle": "2022-03-26T09:06:35.382407Z",
     "shell.execute_reply": "2022-03-26T09:06:35.381472Z",
     "shell.execute_reply.started": "2022-03-26T09:06:34.841992Z"
    }
   },
   "outputs": [],
   "source": [
    "#creating simple Neural Network model with 1 hidden layer with single neuron and output layer with 10 neurons as our class is 10\n",
    "model2 = Sequential()\n",
    "model2.add(Flatten(input_shape=(28,28)))\n",
    "model2.add(Dense(1, activation = 'sigmoid'))\n",
    "model2.add(Dense(10, activation = 'softmax'))"
   ]
  },
  {
   "cell_type": "code",
   "execution_count": 20,
   "metadata": {
    "execution": {
     "iopub.execute_input": "2022-03-26T09:06:35.384539Z",
     "iopub.status.busy": "2022-03-26T09:06:35.384269Z",
     "iopub.status.idle": "2022-03-26T09:06:35.403908Z",
     "shell.execute_reply": "2022-03-26T09:06:35.403032Z",
     "shell.execute_reply.started": "2022-03-26T09:06:35.384508Z"
    }
   },
   "outputs": [
    {
     "name": "stdout",
     "output_type": "stream",
     "text": [
      "Model: \"sequential\"\n",
      "_________________________________________________________________\n",
      " Layer (type)                Output Shape              Param #   \n",
      "=================================================================\n",
      " flatten (Flatten)           (None, 784)               0         \n",
      "                                                                 \n",
      " dense (Dense)               (None, 1)                 785       \n",
      "                                                                 \n",
      " dense_1 (Dense)             (None, 10)                20        \n",
      "                                                                 \n",
      "=================================================================\n",
      "Total params: 805\n",
      "Trainable params: 805\n",
      "Non-trainable params: 0\n",
      "_________________________________________________________________\n"
     ]
    }
   ],
   "source": [
    "# Using the code below to see the detail of our Neural Network\n",
    "model2.summary()"
   ]
  },
  {
   "cell_type": "markdown",
   "metadata": {},
   "source": [
    "**From the above summary, we see that our neural network have total 805 trainable parameters. We train these parameter using backpropagation.**"
   ]
  },
  {
   "cell_type": "code",
   "execution_count": 21,
   "metadata": {
    "execution": {
     "iopub.execute_input": "2022-03-26T09:06:37.400108Z",
     "iopub.status.busy": "2022-03-26T09:06:37.399770Z",
     "iopub.status.idle": "2022-03-26T09:06:37.413046Z",
     "shell.execute_reply": "2022-03-26T09:06:37.412218Z",
     "shell.execute_reply.started": "2022-03-26T09:06:37.400072Z"
    }
   },
   "outputs": [],
   "source": [
    "#compiling the model\n",
    "model2.compile(\n",
    "    loss = 'categorical_crossentropy', # using categorical_crossentropy to calculate loss\n",
    "    optimizer = 'adam', #using adam as optimizer.\n",
    "    metrics = ['accuracy'] # using accuracy and precision as our metrics\n",
    ")"
   ]
  },
  {
   "cell_type": "markdown",
   "metadata": {},
   "source": [
    "**Now comes the fun part, training the model**"
   ]
  },
  {
   "cell_type": "code",
   "execution_count": 22,
   "metadata": {
    "execution": {
     "iopub.execute_input": "2022-03-26T09:06:38.342784Z",
     "iopub.status.busy": "2022-03-26T09:06:38.341482Z",
     "iopub.status.idle": "2022-03-26T09:07:50.883031Z",
     "shell.execute_reply": "2022-03-26T09:07:50.880719Z",
     "shell.execute_reply.started": "2022-03-26T09:06:38.342737Z"
    }
   },
   "outputs": [
    {
     "name": "stdout",
     "output_type": "stream",
     "text": [
      "Epoch 1/20\n",
      "1875/1875 [==============================] - 2s 985us/step - loss: 2.0917 - accuracy: 0.1992 - val_loss: 1.9576 - val_accuracy: 0.2241\n",
      "Epoch 2/20\n",
      "1875/1875 [==============================] - 2s 991us/step - loss: 1.8722 - accuracy: 0.2226 - val_loss: 1.8081 - val_accuracy: 0.2258\n",
      "Epoch 3/20\n",
      "1875/1875 [==============================] - 2s 1ms/step - loss: 1.7679 - accuracy: 0.2169 - val_loss: 1.7428 - val_accuracy: 0.2105\n",
      "Epoch 4/20\n",
      "1875/1875 [==============================] - 2s 1ms/step - loss: 1.7220 - accuracy: 0.2161 - val_loss: 1.7114 - val_accuracy: 0.2221\n",
      "Epoch 5/20\n",
      "1875/1875 [==============================] - 2s 1ms/step - loss: 1.6970 - accuracy: 0.2178 - val_loss: 1.7029 - val_accuracy: 0.2126\n",
      "Epoch 6/20\n",
      "1875/1875 [==============================] - 2s 923us/step - loss: 1.6731 - accuracy: 0.2511 - val_loss: 1.6584 - val_accuracy: 0.2736\n",
      "Epoch 7/20\n",
      "1875/1875 [==============================] - 2s 934us/step - loss: 1.6340 - accuracy: 0.2937 - val_loss: 1.6238 - val_accuracy: 0.3290\n",
      "Epoch 8/20\n",
      "1875/1875 [==============================] - 2s 937us/step - loss: 1.6037 - accuracy: 0.3141 - val_loss: 1.5976 - val_accuracy: 0.3319\n",
      "Epoch 9/20\n",
      "1875/1875 [==============================] - 2s 994us/step - loss: 1.5775 - accuracy: 0.3202 - val_loss: 1.5651 - val_accuracy: 0.3497\n",
      "Epoch 10/20\n",
      "1875/1875 [==============================] - 2s 1ms/step - loss: 1.5495 - accuracy: 0.3205 - val_loss: 1.5400 - val_accuracy: 0.3322\n",
      "Epoch 11/20\n",
      "1875/1875 [==============================] - 2s 1ms/step - loss: 1.5269 - accuracy: 0.3258 - val_loss: 1.5237 - val_accuracy: 0.3280\n",
      "Epoch 12/20\n",
      "1875/1875 [==============================] - 2s 1ms/step - loss: 1.5096 - accuracy: 0.3322 - val_loss: 1.5098 - val_accuracy: 0.3160\n",
      "Epoch 13/20\n",
      "1875/1875 [==============================] - 2s 1ms/step - loss: 1.4956 - accuracy: 0.3419 - val_loss: 1.4971 - val_accuracy: 0.3208\n",
      "Epoch 14/20\n",
      "1875/1875 [==============================] - 2s 1ms/step - loss: 1.4825 - accuracy: 0.3429 - val_loss: 1.4807 - val_accuracy: 0.3732\n",
      "Epoch 15/20\n",
      "1875/1875 [==============================] - 2s 1ms/step - loss: 1.4716 - accuracy: 0.3504 - val_loss: 1.4708 - val_accuracy: 0.3501\n",
      "Epoch 16/20\n",
      "1875/1875 [==============================] - 2s 1ms/step - loss: 1.4609 - accuracy: 0.3546 - val_loss: 1.4612 - val_accuracy: 0.3743\n",
      "Epoch 17/20\n",
      "1875/1875 [==============================] - 2s 1ms/step - loss: 1.4518 - accuracy: 0.3584 - val_loss: 1.4553 - val_accuracy: 0.3676\n",
      "Epoch 18/20\n",
      "1875/1875 [==============================] - 2s 1ms/step - loss: 1.4430 - accuracy: 0.3668 - val_loss: 1.4480 - val_accuracy: 0.3531\n",
      "Epoch 19/20\n",
      "1875/1875 [==============================] - 2s 1ms/step - loss: 1.4351 - accuracy: 0.3734 - val_loss: 1.4378 - val_accuracy: 0.3717\n",
      "Epoch 20/20\n",
      "1875/1875 [==============================] - 2s 1ms/step - loss: 1.4272 - accuracy: 0.3771 - val_loss: 1.4299 - val_accuracy: 0.3898\n"
     ]
    },
    {
     "data": {
      "image/png": "[encoded data removed]",
      "text/plain": [
       "<Figure size 432x288 with 1 Axes>"
      ]
     },
     "metadata": {
      "needs_background": "light"
     },
     "output_type": "display_data"
    },
    {
     "data": {
      "image/png": "[encoded data removed]",
      "text/plain": [
       "<Figure size 432x288 with 1 Axes>"
      ]
     },
     "metadata": {
      "needs_background": "light"
     },
     "output_type": "display_data"
    }
   ],
   "source": [
    "history2 = model2.fit(X_train_norm, y_train, epochs = 20, validation_data=(X_test_norm,y_test))\n",
    "# summarize history for accuracy\n",
    "plt.plot(history2.history['accuracy'])\n",
    "plt.plot(history2.history['val_accuracy'])\n",
    "plt.title('model accuracy')\n",
    "plt.ylabel('accuracy')\n",
    "plt.xlabel('epoch')\n",
    "plt.legend(['train', 'test'], loc='upper left')\n",
    "plt.show()\n",
    "# summarize history for loss\n",
    "plt.plot(history2.history['loss'])\n",
    "plt.plot(history2.history['val_loss'])\n",
    "plt.title('model loss')\n",
    "plt.ylabel('loss')\n",
    "plt.xlabel('epoch')\n",
    "plt.legend(['train', 'test'], loc='upper left')\n",
    "plt.show()"
   ]
  },
  {
   "cell_type": "markdown",
   "metadata": {},
   "source": [
    "## **The model is performing much worst than KNN. The accuracy is just 38%. Lets use a deep neural network to train our model.**"
   ]
  },
  {
   "cell_type": "markdown",
   "metadata": {},
   "source": [
    "# Using ANN with 2 layer to train model"
   ]
  },
  {
   "cell_type": "code",
   "execution_count": 23,
   "metadata": {
    "execution": {
     "iopub.execute_input": "2022-03-26T09:08:00.942079Z",
     "iopub.status.busy": "2022-03-26T09:08:00.941758Z",
     "iopub.status.idle": "2022-03-26T09:08:00.948668Z",
     "shell.execute_reply": "2022-03-26T09:08:00.947045Z",
     "shell.execute_reply.started": "2022-03-26T09:08:00.942048Z"
    }
   },
   "outputs": [],
   "source": [
    "# importing modules\n",
    "import keras\n",
    "from keras.layers import Dense, Flatten\n",
    "from keras.models import Sequential\n",
    "import numpy as np"
   ]
  },
  {
   "cell_type": "code",
   "execution_count": 24,
   "metadata": {
    "execution": {
     "iopub.execute_input": "2022-03-26T09:08:01.300919Z",
     "iopub.status.busy": "2022-03-26T09:08:01.300214Z",
     "iopub.status.idle": "2022-03-26T09:08:01.310450Z",
     "shell.execute_reply": "2022-03-26T09:08:01.309480Z",
     "shell.execute_reply.started": "2022-03-26T09:08:01.300865Z"
    }
   },
   "outputs": [
    {
     "name": "stdout",
     "output_type": "stream",
     "text": [
      "Size of X_train :  (60000, 28, 28)\n",
      "Size of X_test :  (10000, 28, 28)\n",
      "Size of y_train :  (60000, 10)\n",
      "Size of y_test :  (10000, 10)\n"
     ]
    }
   ],
   "source": [
    "# printing shape of X_train and X_test\n",
    "print('Size of X_train : ', X_train.shape)\n",
    "print('Size of X_test : ', X_test.shape)\n",
    "\n",
    "#printing shape of y_train and y_test\n",
    "print('Size of y_train : ', y_train.shape)\n",
    "print('Size of y_test : ', y_test.shape)"
   ]
  },
  {
   "cell_type": "code",
   "execution_count": 25,
   "metadata": {
    "execution": {
     "iopub.execute_input": "2022-03-26T09:08:02.622120Z",
     "iopub.status.busy": "2022-03-26T09:08:02.620854Z",
     "iopub.status.idle": "2022-03-26T09:08:02.663119Z",
     "shell.execute_reply": "2022-03-26T09:08:02.662386Z",
     "shell.execute_reply.started": "2022-03-26T09:08:02.622069Z"
    }
   },
   "outputs": [],
   "source": [
    "#creating simple Neural Network model with 2 layers each having  neurons.\n",
    "model3 = Sequential()\n",
    "model3.add(Flatten(input_shape=(28,28)))\n",
    "model3.add(Dense(5, activation = 'relu'))\n",
    "model3.add(Dense(5, activation = 'relu'))\n",
    "model3.add(Dense(10, activation = 'softmax'))"
   ]
  },
  {
   "cell_type": "code",
   "execution_count": 26,
   "metadata": {
    "execution": {
     "iopub.execute_input": "2022-03-26T09:08:05.142120Z",
     "iopub.status.busy": "2022-03-26T09:08:05.141559Z",
     "iopub.status.idle": "2022-03-26T09:08:05.163532Z",
     "shell.execute_reply": "2022-03-26T09:08:05.162533Z",
     "shell.execute_reply.started": "2022-03-26T09:08:05.142063Z"
    }
   },
   "outputs": [
    {
     "name": "stdout",
     "output_type": "stream",
     "text": [
      "Model: \"sequential_1\"\n",
      "_________________________________________________________________\n",
      " Layer (type)                Output Shape              Param #   \n",
      "=================================================================\n",
      " flatten_1 (Flatten)         (None, 784)               0         \n",
      "                                                                 \n",
      " dense_2 (Dense)             (None, 5)                 3925      \n",
      "                                                                 \n",
      " dense_3 (Dense)             (None, 5)                 30        \n",
      "                                                                 \n",
      " dense_4 (Dense)             (None, 10)                60        \n",
      "                                                                 \n",
      "=================================================================\n",
      "Total params: 4,015\n",
      "Trainable params: 4,015\n",
      "Non-trainable params: 0\n",
      "_________________________________________________________________\n"
     ]
    }
   ],
   "source": [
    "# Using the code below to see the detail of our NEural Network\n",
    "model3.summary()"
   ]
  },
  {
   "cell_type": "markdown",
   "metadata": {},
   "source": [
    "**As we can see, our model have total 3,985 trainable parameters. These parameter is tuned using the backpropagation.\n",
    "Now after constructing the Neural Network classifier model, we need to compile it. We wil use categorical_crossentropy as loss, adam optimizer and accuracy to be passed in metrics argument in order to measure the performance of our classifier..**"
   ]
  },
  {
   "cell_type": "code",
   "execution_count": 27,
   "metadata": {
    "execution": {
     "iopub.execute_input": "2022-03-26T09:08:11.061330Z",
     "iopub.status.busy": "2022-03-26T09:08:11.060975Z",
     "iopub.status.idle": "2022-03-26T09:08:11.072464Z",
     "shell.execute_reply": "2022-03-26T09:08:11.071627Z",
     "shell.execute_reply.started": "2022-03-26T09:08:11.061294Z"
    }
   },
   "outputs": [],
   "source": [
    "model3.compile(\n",
    "    loss = 'categorical_crossentropy',\n",
    "    optimizer = 'adam',\n",
    "    metrics = ['accuracy', 'Precision']\n",
    ")"
   ]
  },
  {
   "cell_type": "markdown",
   "metadata": {},
   "source": [
    "## Now training our Neural Network"
   ]
  },
  {
   "cell_type": "code",
   "execution_count": 28,
   "metadata": {
    "execution": {
     "iopub.execute_input": "2022-03-26T09:08:38.968160Z",
     "iopub.status.busy": "2022-03-26T09:08:38.967582Z",
     "iopub.status.idle": "2022-03-26T09:09:20.489181Z",
     "shell.execute_reply": "2022-03-26T09:09:20.488296Z",
     "shell.execute_reply.started": "2022-03-26T09:08:38.968094Z"
    }
   },
   "outputs": [
    {
     "name": "stdout",
     "output_type": "stream",
     "text": [
      "Epoch 1/10\n",
      "1875/1875 [==============================] - 3s 1ms/step - loss: 1.1757 - accuracy: 0.5728 - precision: 0.8397 - val_loss: 0.8637 - val_accuracy: 0.6721 - val_precision: 0.8127\n",
      "Epoch 2/10\n",
      "1875/1875 [==============================] - 2s 1ms/step - loss: 0.8071 - accuracy: 0.7012 - precision: 0.8173 - val_loss: 0.7737 - val_accuracy: 0.7194 - val_precision: 0.8230\n",
      "Epoch 3/10\n",
      "1875/1875 [==============================] - 2s 1ms/step - loss: 0.7223 - accuracy: 0.7441 - precision: 0.8377 - val_loss: 0.7106 - val_accuracy: 0.7493 - val_precision: 0.8365\n",
      "Epoch 4/10\n",
      "1875/1875 [==============================] - 2s 1ms/step - loss: 0.6706 - accuracy: 0.7646 - precision: 0.8495 - val_loss: 0.6755 - val_accuracy: 0.7614 - val_precision: 0.8469\n",
      "Epoch 5/10\n",
      "1875/1875 [==============================] - 2s 1ms/step - loss: 0.6425 - accuracy: 0.7749 - precision: 0.8528 - val_loss: 0.6557 - val_accuracy: 0.7682 - val_precision: 0.8483\n",
      "Epoch 6/10\n",
      "1875/1875 [==============================] - 2s 1ms/step - loss: 0.6227 - accuracy: 0.7827 - precision: 0.8544 - val_loss: 0.6408 - val_accuracy: 0.7723 - val_precision: 0.8465\n",
      "Epoch 7/10\n",
      "1875/1875 [==============================] - 2s 1ms/step - loss: 0.6099 - accuracy: 0.7862 - precision: 0.8562 - val_loss: 0.6293 - val_accuracy: 0.7791 - val_precision: 0.8509\n",
      "Epoch 8/10\n",
      "1875/1875 [==============================] - 2s 1ms/step - loss: 0.5991 - accuracy: 0.7896 - precision: 0.8568 - val_loss: 0.6264 - val_accuracy: 0.7805 - val_precision: 0.8429\n",
      "Epoch 9/10\n",
      "1875/1875 [==============================] - 2s 1ms/step - loss: 0.5922 - accuracy: 0.7919 - precision: 0.8561 - val_loss: 0.6205 - val_accuracy: 0.7853 - val_precision: 0.8547\n",
      "Epoch 10/10\n",
      "1875/1875 [==============================] - 3s 1ms/step - loss: 0.5843 - accuracy: 0.7960 - precision: 0.8573 - val_loss: 0.6121 - val_accuracy: 0.7901 - val_precision: 0.8564\n"
     ]
    },
    {
     "data": {
      "image/png": "[encoded data removed]",
      "text/plain": [
       "<Figure size 432x288 with 1 Axes>"
      ]
     },
     "metadata": {
      "needs_background": "light"
     },
     "output_type": "display_data"
    },
    {
     "data": {
      "image/png": "[encoded data removed]",
      "text/plain": [
       "<Figure size 432x288 with 1 Axes>"
      ]
     },
     "metadata": {
      "needs_background": "light"
     },
     "output_type": "display_data"
    },
    {
     "data": {
      "image/png": "[encoded data removed]",
      "text/plain": [
       "<Figure size 432x288 with 1 Axes>"
      ]
     },
     "metadata": {
      "needs_background": "light"
     },
     "output_type": "display_data"
    }
   ],
   "source": [
    "# using .fit() method on our model\n",
    "history3 = model3.fit(X_train_norm, y_train, epochs = 10, validation_data=(X_test_norm,y_test))\n",
    "# summarize history for accuracy\n",
    "plt.plot(history3.history['accuracy'])\n",
    "plt.plot(history3.history['val_accuracy'])\n",
    "plt.title('model accuracy')\n",
    "plt.ylabel('accuracy')\n",
    "plt.xlabel('epoch')\n",
    "plt.legend(['train', 'test'], loc='upper left')\n",
    "plt.show()\n",
    "# summarize history for loss\n",
    "plt.plot(history3.history['loss'])\n",
    "plt.plot(history3.history['val_loss'])\n",
    "plt.title('model loss')\n",
    "plt.ylabel('loss')\n",
    "plt.xlabel('epoch')\n",
    "plt.legend(['train', 'test'], loc='upper left')\n",
    "plt.show()\n",
    "# summarize history for precision\n",
    "plt.plot(history3.history['precision'])\n",
    "plt.plot(history3.history['val_precision'])\n",
    "plt.title('model precision')\n",
    "plt.ylabel('precision')\n",
    "plt.xlabel('epoch')\n",
    "plt.legend(['train', 'test'], loc='upper left')\n",
    "plt.show()"
   ]
  },
  {
   "cell_type": "markdown",
   "metadata": {},
   "source": [
    "## **This model is performing far better than previous one. The accuracy is 87% which is very good. We can improve our model even more by using much deeper neural network.**"
   ]
  },
  {
   "cell_type": "markdown",
   "metadata": {},
   "source": [
    "# Creating new model with more hidden layer. "
   ]
  },
  {
   "cell_type": "code",
   "execution_count": 29,
   "metadata": {
    "execution": {
     "iopub.execute_input": "2022-03-26T09:12:03.140564Z",
     "iopub.status.busy": "2022-03-26T09:12:03.140244Z",
     "iopub.status.idle": "2022-03-26T09:12:03.239555Z",
     "shell.execute_reply": "2022-03-26T09:12:03.238476Z",
     "shell.execute_reply.started": "2022-03-26T09:12:03.140533Z"
    }
   },
   "outputs": [],
   "source": [
    "#creating Neural Network model with 7 layers\n",
    "model4 = Sequential()\n",
    "model4.add(Flatten(input_shape=(28,28)))\n",
    "model4.add(Dense(64, activation = 'sigmoid'))\n",
    "model4.add(Dense(128, activation = 'sigmoid'))\n",
    "model4.add(Dense(256, activation = 'sigmoid'))\n",
    "model4.add(Dense(256, activation = 'sigmoid'))\n",
    "model4.add(Dense(128, activation = 'sigmoid'))\n",
    "model4.add(Dense(64, activation = 'sigmoid'))\n",
    "model4.add(Dense(10, activation = 'softmax'))"
   ]
  },
  {
   "cell_type": "code",
   "execution_count": 30,
   "metadata": {
    "execution": {
     "iopub.execute_input": "2022-03-26T09:12:09.221612Z",
     "iopub.status.busy": "2022-03-26T09:12:09.221224Z",
     "iopub.status.idle": "2022-03-26T09:12:09.247632Z",
     "shell.execute_reply": "2022-03-26T09:12:09.247092Z",
     "shell.execute_reply.started": "2022-03-26T09:12:09.221573Z"
    }
   },
   "outputs": [
    {
     "name": "stdout",
     "output_type": "stream",
     "text": [
      "Model: \"sequential_2\"\n",
      "_________________________________________________________________\n",
      " Layer (type)                Output Shape              Param #   \n",
      "=================================================================\n",
      " flatten_2 (Flatten)         (None, 784)               0         \n",
      "                                                                 \n",
      " dense_5 (Dense)             (None, 64)                50240     \n",
      "                                                                 \n",
      " dense_6 (Dense)             (None, 128)               8320      \n",
      "                                                                 \n",
      " dense_7 (Dense)             (None, 256)               33024     \n",
      "                                                                 \n",
      " dense_8 (Dense)             (None, 256)               65792     \n",
      "                                                                 \n",
      " dense_9 (Dense)             (None, 128)               32896     \n",
      "                                                                 \n",
      " dense_10 (Dense)            (None, 64)                8256      \n",
      "                                                                 \n",
      " dense_11 (Dense)            (None, 10)                650       \n",
      "                                                                 \n",
      "=================================================================\n",
      "Total params: 199,178\n",
      "Trainable params: 199,178\n",
      "Non-trainable params: 0\n",
      "_________________________________________________________________\n"
     ]
    }
   ],
   "source": [
    "# Using the code below to see the detail of our Neural Network\n",
    "model4.summary()"
   ]
  },
  {
   "cell_type": "code",
   "execution_count": 31,
   "metadata": {
    "execution": {
     "iopub.execute_input": "2022-03-26T09:12:22.141864Z",
     "iopub.status.busy": "2022-03-26T09:12:22.141496Z",
     "iopub.status.idle": "2022-03-26T09:12:22.155782Z",
     "shell.execute_reply": "2022-03-26T09:12:22.154865Z",
     "shell.execute_reply.started": "2022-03-26T09:12:22.141829Z"
    }
   },
   "outputs": [],
   "source": [
    "model4.compile(\n",
    "    loss = keras.losses.binary_crossentropy,\n",
    "    optimizer = 'adam',\n",
    "    metrics = ['accuracy']\n",
    ")"
   ]
  },
  {
   "cell_type": "code",
   "execution_count": 32,
   "metadata": {
    "execution": {
     "iopub.execute_input": "2022-03-26T09:12:33.221619Z",
     "iopub.status.busy": "2022-03-26T09:12:33.221293Z",
     "iopub.status.idle": "2022-03-26T09:15:12.642347Z",
     "shell.execute_reply": "2022-03-26T09:15:12.641327Z",
     "shell.execute_reply.started": "2022-03-26T09:12:33.221584Z"
    }
   },
   "outputs": [
    {
     "name": "stdout",
     "output_type": "stream",
     "text": [
      "Epoch 1/20\n",
      "1875/1875 [==============================] - 5s 3ms/step - loss: 0.3285 - accuracy: 0.1002 - val_loss: 0.3259 - val_accuracy: 0.1000\n",
      "Epoch 2/20\n",
      "1875/1875 [==============================] - 4s 2ms/step - loss: 0.2243 - accuracy: 0.3630 - val_loss: 0.1612 - val_accuracy: 0.5454\n",
      "Epoch 3/20\n",
      "1875/1875 [==============================] - 5s 3ms/step - loss: 0.1450 - accuracy: 0.6102 - val_loss: 0.1275 - val_accuracy: 0.6870\n",
      "Epoch 4/20\n",
      "1875/1875 [==============================] - 6s 3ms/step - loss: 0.1123 - accuracy: 0.7362 - val_loss: 0.1034 - val_accuracy: 0.7765\n",
      "Epoch 5/20\n",
      "1875/1875 [==============================] - 6s 3ms/step - loss: 0.0906 - accuracy: 0.8051 - val_loss: 0.0938 - val_accuracy: 0.8049\n",
      "Epoch 6/20\n",
      "1875/1875 [==============================] - 6s 3ms/step - loss: 0.0825 - accuracy: 0.8289 - val_loss: 0.0812 - val_accuracy: 0.8379\n",
      "Epoch 7/20\n",
      "1875/1875 [==============================] - 6s 3ms/step - loss: 0.0764 - accuracy: 0.8478 - val_loss: 0.0849 - val_accuracy: 0.8333\n",
      "Epoch 8/20\n",
      "1875/1875 [==============================] - 6s 3ms/step - loss: 0.0726 - accuracy: 0.8563 - val_loss: 0.0773 - val_accuracy: 0.8482\n",
      "Epoch 9/20\n",
      "1875/1875 [==============================] - 7s 3ms/step - loss: 0.0698 - accuracy: 0.8617 - val_loss: 0.0768 - val_accuracy: 0.8456\n",
      "Epoch 10/20\n",
      "1875/1875 [==============================] - 7s 4ms/step - loss: 0.0676 - accuracy: 0.8654 - val_loss: 0.0746 - val_accuracy: 0.8489\n",
      "Epoch 11/20\n",
      "1875/1875 [==============================] - 6s 3ms/step - loss: 0.0654 - accuracy: 0.8697 - val_loss: 0.0743 - val_accuracy: 0.8490\n",
      "Epoch 12/20\n",
      "1875/1875 [==============================] - 6s 3ms/step - loss: 0.0638 - accuracy: 0.8725 - val_loss: 0.0739 - val_accuracy: 0.8512\n",
      "Epoch 13/20\n",
      "1875/1875 [==============================] - 6s 3ms/step - loss: 0.0618 - accuracy: 0.8756 - val_loss: 0.0744 - val_accuracy: 0.8489\n",
      "Epoch 14/20\n",
      "1875/1875 [==============================] - 6s 3ms/step - loss: 0.0604 - accuracy: 0.8779 - val_loss: 0.0685 - val_accuracy: 0.8615\n",
      "Epoch 15/20\n",
      "1875/1875 [==============================] - 6s 3ms/step - loss: 0.0590 - accuracy: 0.8815 - val_loss: 0.0675 - val_accuracy: 0.8629\n",
      "Epoch 16/20\n",
      "1875/1875 [==============================] - 6s 3ms/step - loss: 0.0576 - accuracy: 0.8839 - val_loss: 0.0675 - val_accuracy: 0.8595\n",
      "Epoch 17/20\n",
      "1875/1875 [==============================] - 6s 3ms/step - loss: 0.0567 - accuracy: 0.8848 - val_loss: 0.0666 - val_accuracy: 0.8641\n",
      "Epoch 18/20\n",
      "1875/1875 [==============================] - 6s 3ms/step - loss: 0.0553 - accuracy: 0.8873 - val_loss: 0.0665 - val_accuracy: 0.8668\n",
      "Epoch 19/20\n",
      "1875/1875 [==============================] - 6s 3ms/step - loss: 0.0546 - accuracy: 0.8885 - val_loss: 0.0666 - val_accuracy: 0.8667\n",
      "Epoch 20/20\n",
      "1875/1875 [==============================] - 6s 3ms/step - loss: 0.0536 - accuracy: 0.8899 - val_loss: 0.0664 - val_accuracy: 0.8643\n"
     ]
    },
    {
     "data": {
      "image/png": "[encoded data removed]",
      "text/plain": [
       "<Figure size 432x288 with 1 Axes>"
      ]
     },
     "metadata": {
      "needs_background": "light"
     },
     "output_type": "display_data"
    },
    {
     "data": {
      "image/png": "[encoded data removed]",
      "text/plain": [
       "<Figure size 432x288 with 1 Axes>"
      ]
     },
     "metadata": {
      "needs_background": "light"
     },
     "output_type": "display_data"
    }
   ],
   "source": [
    "# using .fit() method on our model\n",
    "history = model4.fit(X_train_norm, y_train, epochs = 20, validation_data=(X_test_norm,y_test))\n",
    "# summarize history for accuracy\n",
    "plt.plot(history.history['accuracy'])\n",
    "plt.plot(history.history['val_accuracy'])\n",
    "plt.title('model accuracy')\n",
    "plt.ylabel('accuracy')\n",
    "plt.xlabel('epoch')\n",
    "plt.legend(['train', 'test'], loc='upper left')\n",
    "plt.show()\n",
    "# summarize history for loss\n",
    "plt.plot(history.history['loss'])\n",
    "plt.plot(history.history['val_loss'])\n",
    "plt.title('model loss')\n",
    "plt.ylabel('loss')\n",
    "plt.xlabel('epoch')\n",
    "plt.legend(['train', 'test'], loc='upper left')\n",
    "plt.show()"
   ]
  },
  {
   "cell_type": "markdown",
   "metadata": {},
   "source": [
    "## **The accuracy of this model is by far the best i.e. 89%. The model is performing very good on predicting data. Therefore, using this model to predict the data of our own. But first saving this model in h5 file format**"
   ]
  },
  {
   "cell_type": "code",
   "execution_count": 57,
   "metadata": {
    "execution": {
     "iopub.execute_input": "2022-03-26T09:25:00.782401Z",
     "iopub.status.busy": "2022-03-26T09:25:00.782097Z",
     "iopub.status.idle": "2022-03-26T09:25:00.860619Z",
     "shell.execute_reply": "2022-03-26T09:25:00.859826Z",
     "shell.execute_reply.started": "2022-03-26T09:25:00.782371Z"
    }
   },
   "outputs": [],
   "source": [
    "model4.save(\"best_model.h5\")"
   ]
  },
  {
   "cell_type": "markdown",
   "metadata": {},
   "source": [
    "**The entire model is saved in 'best_model.h5' file. Now we can simply use this model to predict the image.**"
   ]
  },
  {
   "cell_type": "markdown",
   "metadata": {},
   "source": [
    "# Using the saved model to predict"
   ]
  },
  {
   "cell_type": "code",
   "execution_count": 116,
   "metadata": {},
   "outputs": [],
   "source": [
    "from keras.models import load_model\n",
    "import cv2 as cv\n",
    "best_model = load_model('best_model.h5')\n",
    "import matplotlib.pyplot as plt\n",
    "import numpy as np\n",
    "from PIL import Image, ImageOps\n",
    "import os\n",
    "\n",
    "best_model.compile(loss='binary_crossentropy',\n",
    "              optimizer='adam',\n",
    "              metrics=['accuracy'])"
   ]
  },
  {
   "cell_type": "markdown",
   "metadata": {},
   "source": [
    "With a loaded model, it's time to generate predictions with our best model!"
   ]
  },
  {
   "cell_type": "code",
   "execution_count": 183,
   "metadata": {},
   "outputs": [
    {
     "data": {
      "image/png": "[encoded data removed]",
      "text/plain": [
       "<Figure size 432x288 with 1 Axes>"
      ]
     },
     "metadata": {
      "needs_background": "light"
     },
     "output_type": "display_data"
    },
    {
     "data": {
      "image/png": "[encoded data removed]",
      "text/plain": [
       "<Figure size 432x288 with 1 Axes>"
      ]
     },
     "metadata": {
      "needs_background": "light"
     },
     "output_type": "display_data"
    },
    {
     "data": {
      "image/png": "[encoded data removed]",
      "text/plain": [
       "<Figure size 432x288 with 1 Axes>"
      ]
     },
     "metadata": {
      "needs_background": "light"
     },
     "output_type": "display_data"
    },
    {
     "data": {
      "image/png": "[encoded data removed]",
      "text/plain": [
       "<Figure size 432x288 with 1 Axes>"
      ]
     },
     "metadata": {
      "needs_background": "light"
     },
     "output_type": "display_data"
    },
    {
     "name": "stdout",
     "output_type": "stream",
     "text": [
      "(4, 28, 28)\n"
     ]
    }
   ],
   "source": [
    "# A few random samples\n",
    "use_samples = [5, 38, 3939, 8888]\n",
    "samples_to_predict = []\n",
    "# Generate plots for samples\n",
    "for sample in use_samples:\n",
    "    # Generate a plot\n",
    "    reshaped_image = X_test[sample].reshape((28, 28))\n",
    "    plt.imshow(reshaped_image, cmap='binary')\n",
    "    plt.show()\n",
    "    # Add sample to array for prediction\n",
    "    samples_to_predict.append(X_test[sample])\n",
    "    \n",
    "# Convert into Numpy array\n",
    "# before feeding them to the model, we convert our list into a Numpy array. \n",
    "# This allows us to compute shape and allows model to handle the data more smoothly:\n",
    "samples_to_predict = np.array(samples_to_predict)\n",
    "print(samples_to_predict.shape)\n"
   ]
  },
  {
   "cell_type": "markdown",
   "metadata": {},
   "source": [
    "Above, The output of the print statement: (4, 28, 28).\n",
    "\n",
    "We indeed added 4 images of 28x28 pixels with one channel per image.\n",
    "\n",
    "The next step is to generate the predictions:"
   ]
  },
  {
   "cell_type": "code",
   "execution_count": 185,
   "metadata": {},
   "outputs": [
    {
     "name": "stdout",
     "output_type": "stream",
     "text": [
      "[[2.1907715e-08 9.9999988e-01 1.3450659e-09 4.0192827e-08 2.2071780e-09\n",
      "  1.7799398e-12 8.4747434e-08 3.4908805e-12 6.0734888e-09 5.1339084e-09]\n",
      " [7.2417645e-09 8.2373018e-11 2.3106953e-12 9.5203038e-12 1.6331136e-10\n",
      "  5.2338642e-06 6.9336994e-11 9.9999201e-01 9.9208592e-07 1.7249102e-06]\n",
      " [1.0553017e-03 3.2086417e-04 9.1196728e-01 1.3286810e-03 7.2166629e-02\n",
      "  7.0454662e-06 1.2078424e-02 2.5700224e-08 1.0750396e-03 7.3937980e-07]\n",
      " [5.9819096e-05 8.5815003e-08 1.0571449e-06 1.1237713e-07 5.7453826e-07\n",
      "  1.9800609e-06 6.0697030e-06 4.3663320e-07 9.9992979e-01 1.0307114e-07]]\n"
     ]
    }
   ],
   "source": [
    "# Generate predictions for samples\n",
    "predictions = best_model.predict(samples_to_predict)\n",
    "print(predictions)"
   ]
  },
  {
   "cell_type": "markdown",
   "metadata": {},
   "source": [
    "As we used the Softmax activation function when creating our model. This activation function doesn't compute the prediction, but rather a discrete probability distribution over the target classes. This means that Softmax computes the probability that the input belongs to a particular class, for each class. The values in each row summate to 1 - or 100%, which is a characteristic of a valid probability distribution.\n",
    "\n",
    "Now, we can finalize our work by actually finding out what our predicted classes are - by taking the argmax values (or \"maximum argument\", index of the maximum value) for each element in the list with predictions:"
   ]
  },
  {
   "cell_type": "code",
   "execution_count": 189,
   "metadata": {},
   "outputs": [
    {
     "name": "stdout",
     "output_type": "stream",
     "text": [
      "[1 7 2 8]\n"
     ]
    }
   ],
   "source": [
    "# Generate arg maxes for predictions\n",
    "classes = np.argmax(predictions, axis = 1)\n",
    "print(classes)"
   ]
  },
  {
   "cell_type": "code",
   "execution_count": 191,
   "metadata": {},
   "outputs": [
    {
     "name": "stdout",
     "output_type": "stream",
     "text": [
      "Trouser\n",
      "Sneaker\n",
      "Pullover\n",
      "Bag\n"
     ]
    }
   ],
   "source": [
    "pred_name = []\n",
    "for i in classes:\n",
    "    print(class_names[i])\n",
    "    pred_name.append(class_names[i])"
   ]
  },
  {
   "cell_type": "markdown",
   "metadata": {},
   "source": [
    "As we can see above, our model predicted first image as Trouser, second as Sneaker, third as Pullover and fourth as bag which is indeed 100% correct. Therefore, our model is performing good in predicting unseen data as well."
   ]
  },
  {
   "cell_type": "code",
   "execution_count": 200,
   "metadata": {},
   "outputs": [
    {
     "data": {
      "image/png": "[encoded data removed]",
      "text/plain": [
       "<Figure size 1440x1440 with 4 Axes>"
      ]
     },
     "metadata": {},
     "output_type": "display_data"
    }
   ],
   "source": [
    "plt.figure(figsize=(20,20))\n",
    "for i in range(4):\n",
    "    plt.subplot(5,5,i+1)\n",
    "    plt.xticks([])\n",
    "    plt.yticks([])\n",
    "    plt.grid(False)\n",
    "    plt.imshow(X_test[use_samples[i]], cmap=plt.cm.binary)\n",
    "    plt.xlabel(pred_name[i])\n",
    "plt.show()"
   ]
  },
  {
   "cell_type": "markdown",
   "metadata": {},
   "source": [
    "In this way, the model is trained and the best model is evaluated. Our best model was model4 which is trained in very deep neural network. The accuray of the model is 88%. "
   ]
  }
 ],
 "metadata": {
  "kernelspec": {
   "display_name": "Python 3 (ipykernel)",
   "language": "python",
   "name": "python3"
  },
  "language_info": {
   "codemirror_mode": {
    "name": "ipython",
    "version": 3
   },
   "file_extension": ".py",
   "mimetype": "text/x-python",
   "name": "python",
   "nbconvert_exporter": "python",
   "pygments_lexer": "ipython3",
   "version": "3.9.2"
  }
 },
 "nbformat": 4,
 "nbformat_minor": 4
}
